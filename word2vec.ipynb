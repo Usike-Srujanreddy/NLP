{
  "nbformat": 4,
  "nbformat_minor": 0,
  "metadata": {
    "colab": {
      "provenance": []
    },
    "kernelspec": {
      "name": "python3",
      "display_name": "Python 3"
    },
    "language_info": {
      "name": "python"
    }
  },
  "cells": [
    {
      "cell_type": "code",
      "execution_count": 6,
      "metadata": {
        "id": "jg_3JzoFdWLX"
      },
      "outputs": [],
      "source": [
        "import gensim.downloader as api\n",
        "model = api.load(\"fasttext-wiki-news-subwords-300\")"
      ]
    },
    {
      "cell_type": "code",
      "source": [
        "model.most_similar(\"king\")"
      ],
      "metadata": {
        "colab": {
          "base_uri": "https://localhost:8080/"
        },
        "id": "VKOwgcSahUXw",
        "outputId": "ba22920f-ad0c-4de5-e91e-98627466568b"
      },
      "execution_count": 5,
      "outputs": [
        {
          "output_type": "execute_result",
          "data": {
            "text/plain": [
              "[('king-', 0.7838029861450195),\n",
              " ('boy-king', 0.7704817652702332),\n",
              " ('queen', 0.7704246640205383),\n",
              " ('prince', 0.7700967192649841),\n",
              " ('kings', 0.7668929696083069),\n",
              " ('sub-king', 0.7391484379768372),\n",
              " ('monarch', 0.736833393573761),\n",
              " ('king-making', 0.7288671731948853),\n",
              " ('ex-king', 0.7280160188674927),\n",
              " ('warrior-king', 0.7232080698013306)]"
            ]
          },
          "metadata": {},
          "execution_count": 5
        }
      ]
    },
    {
      "cell_type": "code",
      "source": [
        "model.most_similar(positive=['king', 'woman'], negative=['man'])"
      ],
      "metadata": {
        "colab": {
          "base_uri": "https://localhost:8080/"
        },
        "id": "QhJujBFCkbIr",
        "outputId": "92b082f2-336e-4f31-b28a-aa79f97db100"
      },
      "execution_count": 7,
      "outputs": [
        {
          "output_type": "execute_result",
          "data": {
            "text/plain": [
              "[('queen', 0.7786749005317688),\n",
              " ('queen-mother', 0.7143871784210205),\n",
              " ('king-', 0.6981282234191895),\n",
              " ('queen-consort', 0.6724597811698914),\n",
              " ('monarch', 0.6666999459266663),\n",
              " ('child-king', 0.6663159132003784),\n",
              " ('boy-king', 0.660534679889679),\n",
              " ('princess', 0.653827428817749),\n",
              " ('ex-queen', 0.652145504951477),\n",
              " ('kings', 0.6497675180435181)]"
            ]
          },
          "metadata": {},
          "execution_count": 7
        }
      ]
    },
    {
      "cell_type": "code",
      "source": [
        "model.doesnt_match([\"apple\", \"banana\", \"car\", \"mango\"])"
      ],
      "metadata": {
        "colab": {
          "base_uri": "https://localhost:8080/",
          "height": 35
        },
        "id": "RMdbhzRtlw2t",
        "outputId": "27227a08-0ccc-40c9-eba2-ed0c44866389"
      },
      "execution_count": 8,
      "outputs": [
        {
          "output_type": "execute_result",
          "data": {
            "text/plain": [
              "'car'"
            ],
            "application/vnd.google.colaboratory.intrinsic+json": {
              "type": "string"
            }
          },
          "metadata": {},
          "execution_count": 8
        }
      ]
    },
    {
      "cell_type": "code",
      "source": [
        "sentences = [\n",
        "    [\"machine\", \"learning\", \"is\", \"amazing\"],\n",
        "    [\"deep\", \"learning\", \"is\", \"a\", \"subset\", \"of\", \"machine\", \"learning\"],\n",
        "    [\"artificial\", \"intelligence\", \"is\", \"the\", \"future\"],\n",
        "    [\"word2vec\", \"converts\", \"words\", \"into\", \"vectors\"]\n",
        "]"
      ],
      "metadata": {
        "id": "8zF0scygl7JU"
      },
      "execution_count": 9,
      "outputs": []
    },
    {
      "cell_type": "code",
      "source": [
        "from gensim.models import Word2Vec\n",
        "model2 = Word2Vec(sentences, vector_size=50, window=5, min_count=1, workers=4)"
      ],
      "metadata": {
        "id": "SS_U_EAtmAIk"
      },
      "execution_count": 10,
      "outputs": []
    },
    {
      "cell_type": "code",
      "source": [
        "model2.wv[\"machine\"]"
      ],
      "metadata": {
        "colab": {
          "base_uri": "https://localhost:8080/"
        },
        "id": "7P1iPmp4mJHm",
        "outputId": "98b0ebef-157b-447e-a4ca-a86b6a0d9e86"
      },
      "execution_count": 11,
      "outputs": [
        {
          "output_type": "execute_result",
          "data": {
            "text/plain": [
              "array([-0.01723938,  0.00733148,  0.01037977,  0.01148388,  0.01493384,\n",
              "       -0.01233535,  0.00221123,  0.01209456, -0.0056801 , -0.01234705,\n",
              "       -0.00082045, -0.0167379 , -0.01120002,  0.01420908,  0.00670508,\n",
              "        0.01445134,  0.01360049,  0.01506148, -0.00757831, -0.00112361,\n",
              "        0.00469675, -0.00903806,  0.01677746, -0.01971633,  0.01352928,\n",
              "        0.00582883, -0.00986566,  0.00879638, -0.00347915,  0.01342277,\n",
              "        0.0199297 , -0.00872489, -0.00119868, -0.01139127,  0.00770164,\n",
              "        0.00557325,  0.01378215,  0.01220219,  0.01907699,  0.01854683,\n",
              "        0.01579614, -0.01397901, -0.01831173, -0.00071151, -0.00619968,\n",
              "        0.01578863,  0.01187715, -0.00309133,  0.00302193,  0.00358008],\n",
              "      dtype=float32)"
            ]
          },
          "metadata": {},
          "execution_count": 11
        }
      ]
    },
    {
      "cell_type": "code",
      "source": [
        "model2.wv.most_similar(\"learning\")"
      ],
      "metadata": {
        "colab": {
          "base_uri": "https://localhost:8080/"
        },
        "id": "qoHhmM4QmK6N",
        "outputId": "55833102-4a7c-4762-8214-b3720a1510e2"
      },
      "execution_count": 12,
      "outputs": [
        {
          "output_type": "execute_result",
          "data": {
            "text/plain": [
              "[('converts', 0.21067024767398834),\n",
              " ('the', 0.16703546047210693),\n",
              " ('word2vec', 0.15045210719108582),\n",
              " ('subset', 0.13204392790794373),\n",
              " ('machine', 0.1267007291316986),\n",
              " ('into', 0.0999353677034378),\n",
              " ('artificial', 0.05936763808131218),\n",
              " ('is', 0.04243569076061249),\n",
              " ('future', 0.0406772643327713),\n",
              " ('deep', 0.012497726827859879)]"
            ]
          },
          "metadata": {},
          "execution_count": 12
        }
      ]
    },
    {
      "cell_type": "code",
      "source": [
        "from scipy.spatial.distance import cosine\n",
        "from numpy.linalg import norm"
      ],
      "metadata": {
        "id": "0_4eGtfcmXeF"
      },
      "execution_count": 13,
      "outputs": []
    },
    {
      "cell_type": "code",
      "source": [
        "norm(model[\"man\"] - model[\"woman\"])"
      ],
      "metadata": {
        "colab": {
          "base_uri": "https://localhost:8080/"
        },
        "id": "zFj0O3rzmeww",
        "outputId": "8b29a825-635f-436f-824a-fdc3cc064f2b"
      },
      "execution_count": 14,
      "outputs": [
        {
          "output_type": "execute_result",
          "data": {
            "text/plain": [
              "0.6913657"
            ]
          },
          "metadata": {},
          "execution_count": 14
        }
      ]
    },
    {
      "cell_type": "code",
      "source": [
        "cosine(model[\"kingdom\"], model[\"people\"])"
      ],
      "metadata": {
        "colab": {
          "base_uri": "https://localhost:8080/"
        },
        "id": "KfT5O1oOmjjZ",
        "outputId": "9ca7bb36-6614-46cc-9c4d-ce84e7289f10"
      },
      "execution_count": 15,
      "outputs": [
        {
          "output_type": "execute_result",
          "data": {
            "text/plain": [
              "0.5992496782686327"
            ]
          },
          "metadata": {},
          "execution_count": 15
        }
      ]
    }
  ]
}